{
 "cells": [
  {
   "cell_type": "code",
   "execution_count": 20,
   "metadata": {},
   "outputs": [],
   "source": [
    "import pandas as pd\n",
    "from sklearn.tree import DecisionTreeClassifier\n",
    "from sklearn.model_selection import train_test_split\n",
    "from sklearn import metrics\n",
    "\n",
    "import sqlite3\n",
    "connection = sqlite3.connect(\"./database/bdfinal.sql\")"
   ]
  },
  {
   "cell_type": "code",
   "execution_count": 27,
   "metadata": {},
   "outputs": [
    {
     "name": "stdout",
     "output_type": "stream",
     "text": [
      "[[9 0 895 ... '' '' '']\n",
      " [1 0 812 ... '' '' '']\n",
      " [2 0 746 ... 'W' 'W' 'L']\n",
      " ...\n",
      " [7 0 1016 ... 'L' '' '']\n",
      " [8 0 877 ... '' '' '']\n",
      " [9 0 885 ... '' '' '']]\n",
      "['N' 'N' 'Y' 'Y' 'Y' 'N' 'N' 'N' 'N' 'N' 'N' 'Y' 'Y' 'N' 'Y' 'Y' 'Y' 'Y'\n",
      " 'Y' 'Y' 'Y' 'N' 'N' 'N' 'Y' 'Y' 'Y' 'Y' 'Y' 'Y' 'Y' 'Y' 'Y' 'Y' 'N' 'Y'\n",
      " 'Y' 'N' 'N' 'N' 'N' 'Y' 'N' 'N' 'Y' 'Y' 'Y' 'Y' 'Y' 'Y' 'Y' 'Y' 'Y' 'Y'\n",
      " 'Y' 'N' 'Y' 'N' 'Y' 'N' 'N' 'N' 'N' 'Y' 'Y' 'N' 'N' 'N' 'N' 'Y' 'Y' 'Y'\n",
      " 'N' 'Y' 'Y' 'N' 'Y' 'Y' 'Y' 'N' 'N' 'Y' 'N' 'N' 'N' 'N' 'N' 'N' 'Y' 'N'\n",
      " 'N' 'N' 'N' 'Y' 'Y' 'N' 'Y' 'Y' 'Y' 'Y' 'Y' 'Y' 'N' 'N' 'N' 'N' 'Y' 'Y'\n",
      " 'N' 'N' 'Y' 'N' 'Y' 'Y' 'Y' 'Y' 'Y' 'N' 'Y' 'Y' 'Y' 'N' 'Y' 'N' 'Y' 'N'\n",
      " 'Y' 'N' 'N']\n",
      "[[10 0 1089 2428 569 755 114 374 404 855 1259 547 741 329 590 121 2861\n",
      "  996 2363 624 807 181 530 353 821 1174 615 700 347 601 133 2797 0 0 0 0\n",
      "  0 0 18 16 34 12 5 6 11 10 12 6950 120737 'L' '' '']\n",
      " [10 0 930 2136 527 693 186 471 307 776 1083 532 605 249 532 138 2573\n",
      "  1004 2269 479 613 206 593 359 797 1156 610 636 273 489 121 2693 0 0 0 0\n",
      "  0 0 16 18 34 12 5 4 13 10 12 6825 66852 '' '' '']\n",
      " [10 0 966 2381 517 692 202 639 358 826 1184 608 677 250 453 130 2651 953\n",
      "  2236 591 746 157 488 329 945 1274 525 684 248 549 125 2654 0 0 0 0 0 0\n",
      "  16 18 34 12 5 4 13 10 12 6975 115496 '' '' '']\n",
      " [10 0 980 2277 539 721 153 436 373 853 1226 575 766 261 546 97 2652 902\n",
      "  2201 632 813 208 611 320 781 1101 524 716 279 531 110 2644 0 0 0 0 0 0\n",
      "  18 16 34 11 6 7 10 11 11 6975 136069 'W' 'L' '']\n",
      " [10 0 890 2212 613 746 213 637 342 780 1122 527 692 373 531 117 2606 909\n",
      "  2118 529 692 154 483 318 849 1167 498 700 271 638 116 2501 0 0 0 0 0 0\n",
      "  22 12 34 14 3 8 9 17 5 6925 134964 'W' 'W' 'L']\n",
      " [10 0 973 2264 435 550 152 512 365 883 1248 587 583 217 568 166 2533 903\n",
      "  2262 479 623 213 636 320 730 1050 516 622 300 463 115 2498 0 0 0 0 0 0\n",
      "  18 16 34 11 6 7 10 11 9 6925 176587 'W' 'L' '']\n",
      " [10 0 949 2257 591 766 242 695 325 762 1087 509 693 301 513 128 2731\n",
      "  1041 2260 550 711 195 510 317 848 1165 589 694 250 543 140 2827 0 0 0 0\n",
      "  0 0 14 20 34 9 8 5 12 7 13 6875 128127 '' '' '']\n",
      " [10 0 900 2168 458 582 254 710 280 802 1082 526 637 276 543 121 2512 906\n",
      "  2157 531 673 192 554 333 869 1202 482 590 269 548 124 2535 0 0 0 0 0 0\n",
      "  13 21 34 8 9 5 12 9 13 6900 166604 '' '' '']\n",
      " [10 0 1128 2454 643 752 257 665 284 906 1190 625 740 225 500 181 3156\n",
      "  1094 2582 638 851 205 608 421 864 1285 607 671 260 460 143 3031 0 0 0 0\n",
      "  0 0 23 11 34 12 5 11 6 13 7 6900 144884 'W' 'W' 'W']\n",
      " [10 0 946 2194 586 744 132 389 391 763 1154 540 645 289 584 98 2610 994\n",
      "  2221 479 586 223 604 326 702 1028 627 704 262 576 147 2690 0 0 0 0 0 0\n",
      "  12 22 34 7 10 5 12 6 14 6850 131654 '' '' '']\n",
      " [10 0 936 2190 487 626 256 739 281 768 1049 598 596 257 509 116 2615\n",
      "  1000 2279 488 620 173 499 364 824 1188 529 643 268 502 120 2661 0 0 0 0\n",
      "  0 0 15 19 34 10 7 5 12 10 10 6950 127957 'L' '' '']\n",
      " [10 0 909 2116 555 707 171 486 316 788 1104 536 710 276 555 150 2544 882\n",
      "  2150 510 671 202 585 332 746 1078 517 672 275 555 131 2476 0 0 0 0 0 0\n",
      "  20 14 34 13 4 7 10 13 7 7025 133858 'L' '' '']\n",
      " [10 0 933 2205 580 827 139 426 388 803 1191 453 725 314 607 118 2585 945\n",
      "  2184 570 755 162 478 322 789 1111 524 778 315 576 156 2622 0 0 0 0 0 0\n",
      "  16 18 34 11 6 5 12 10 12 6875 192747 'L' '' '']]\n",
      "['Y' 'N' 'N' 'Y' 'Y' 'Y' 'N' 'N' 'Y' 'N' 'Y' 'Y' 'Y']\n"
     ]
    }
   ],
   "source": [
    "columns = \"o_fgm,o_fga,o_ftm,o_fta,o_3pm,o_3pa,o_oreb,o_dreb,o_reb,o_asts,o_pf,o_stl,o_to,o_blk,o_pts,d_fgm,d_fga,d_ftm,d_fta,d_3pm,\\\n",
    "    d_3pa,d_oreb,d_dreb,d_reb,d_asts,d_pf,d_stl,d_to,d_blk,d_pts,tmORB,tmDRB,tmTRB,opptmORB,opptmDRB,opptmTRB,won,lost,GP,homeW,homeL,\\\n",
    "        awayW,awayL,confW,confL,min,attend,firstRound,semis,finals\"\n",
    "\n",
    "query_test = \"SELECT year, playoff, seeded, \" + columns + \" FROM Teams WHERE year = 10\"\n",
    "query_train = \"SELECT year, playoff, seeded, \" + columns + \" FROM Teams WHERE year <> 10\"\n",
    "\n",
    "train_data = pd.read_sql(query_train,connection)\n",
    "pd.get_dummies(train_data,)\n",
    "\n",
    "\n",
    "train_data['firstRound'] = train_data.firstRound.astype('category')\n",
    "train_data['semis'] = train_data.semis.astype('category')\n",
    "train_data['finals'] = train_data.finals.astype('category')\n",
    "train_inputs = train_data.loc[:, train_data.columns != \"playoff\"].values\n",
    "train_labels = train_data[\"playoff\"].values\n",
    "\n",
    "test_data = pd.read_sql(query_test,connection)\n",
    "test_data['firstRound'] = test_data.firstRound.astype('category')\n",
    "test_data['semis'] = test_data.semis.astype('category')\n",
    "test_data['finals'] = test_data.finals.astype('category')\n",
    "test_inputs = test_data.loc[:, test_data.columns != \"playoff\"].values\n",
    "test_labels = test_data[\"playoff\"].values\n",
    "\n",
    "print(train_inputs)\n",
    "print(train_labels)\n",
    "print(test_inputs)\n",
    "print(test_labels)\n"
   ]
  },
  {
   "cell_type": "code",
   "execution_count": 28,
   "metadata": {},
   "outputs": [
    {
     "ename": "ValueError",
     "evalue": "could not convert string to float: ''",
     "output_type": "error",
     "traceback": [
      "\u001b[1;31m---------------------------------------------------------------------------\u001b[0m",
      "\u001b[1;31mValueError\u001b[0m                                Traceback (most recent call last)",
      "\u001b[1;32mc:\\Users\\Utilizador\\Documents\\M.EIC\\AC\\feup-ac\\notebook.ipynb Cell 3\u001b[0m line \u001b[0;36m2\n\u001b[0;32m      <a href='vscode-notebook-cell:/c%3A/Users/Utilizador/Documents/M.EIC/AC/feup-ac/notebook.ipynb#W6sZmlsZQ%3D%3D?line=0'>1</a>\u001b[0m clf \u001b[39m=\u001b[39m DecisionTreeClassifier(random_state\u001b[39m=\u001b[39m\u001b[39m1\u001b[39m)\n\u001b[1;32m----> <a href='vscode-notebook-cell:/c%3A/Users/Utilizador/Documents/M.EIC/AC/feup-ac/notebook.ipynb#W6sZmlsZQ%3D%3D?line=1'>2</a>\u001b[0m clf\u001b[39m.\u001b[39;49mfit(train_inputs,train_labels)\n\u001b[0;32m      <a href='vscode-notebook-cell:/c%3A/Users/Utilizador/Documents/M.EIC/AC/feup-ac/notebook.ipynb#W6sZmlsZQ%3D%3D?line=2'>3</a>\u001b[0m clf\u001b[39m.\u001b[39mscore(test_inputs,test_labels)\n",
      "File \u001b[1;32m~\\AppData\\Local\\Packages\\PythonSoftwareFoundation.Python.3.11_qbz5n2kfra8p0\\LocalCache\\local-packages\\Python311\\site-packages\\sklearn\\tree\\_classes.py:889\u001b[0m, in \u001b[0;36mDecisionTreeClassifier.fit\u001b[1;34m(self, X, y, sample_weight, check_input)\u001b[0m\n\u001b[0;32m    859\u001b[0m \u001b[39mdef\u001b[39;00m \u001b[39mfit\u001b[39m(\u001b[39mself\u001b[39m, X, y, sample_weight\u001b[39m=\u001b[39m\u001b[39mNone\u001b[39;00m, check_input\u001b[39m=\u001b[39m\u001b[39mTrue\u001b[39;00m):\n\u001b[0;32m    860\u001b[0m \u001b[39m    \u001b[39m\u001b[39m\"\"\"Build a decision tree classifier from the training set (X, y).\u001b[39;00m\n\u001b[0;32m    861\u001b[0m \n\u001b[0;32m    862\u001b[0m \u001b[39m    Parameters\u001b[39;00m\n\u001b[1;32m   (...)\u001b[0m\n\u001b[0;32m    886\u001b[0m \u001b[39m        Fitted estimator.\u001b[39;00m\n\u001b[0;32m    887\u001b[0m \u001b[39m    \"\"\"\u001b[39;00m\n\u001b[1;32m--> 889\u001b[0m     \u001b[39msuper\u001b[39;49m()\u001b[39m.\u001b[39;49mfit(\n\u001b[0;32m    890\u001b[0m         X,\n\u001b[0;32m    891\u001b[0m         y,\n\u001b[0;32m    892\u001b[0m         sample_weight\u001b[39m=\u001b[39;49msample_weight,\n\u001b[0;32m    893\u001b[0m         check_input\u001b[39m=\u001b[39;49mcheck_input,\n\u001b[0;32m    894\u001b[0m     )\n\u001b[0;32m    895\u001b[0m     \u001b[39mreturn\u001b[39;00m \u001b[39mself\u001b[39m\n",
      "File \u001b[1;32m~\\AppData\\Local\\Packages\\PythonSoftwareFoundation.Python.3.11_qbz5n2kfra8p0\\LocalCache\\local-packages\\Python311\\site-packages\\sklearn\\tree\\_classes.py:186\u001b[0m, in \u001b[0;36mBaseDecisionTree.fit\u001b[1;34m(self, X, y, sample_weight, check_input)\u001b[0m\n\u001b[0;32m    184\u001b[0m check_X_params \u001b[39m=\u001b[39m \u001b[39mdict\u001b[39m(dtype\u001b[39m=\u001b[39mDTYPE, accept_sparse\u001b[39m=\u001b[39m\u001b[39m\"\u001b[39m\u001b[39mcsc\u001b[39m\u001b[39m\"\u001b[39m)\n\u001b[0;32m    185\u001b[0m check_y_params \u001b[39m=\u001b[39m \u001b[39mdict\u001b[39m(ensure_2d\u001b[39m=\u001b[39m\u001b[39mFalse\u001b[39;00m, dtype\u001b[39m=\u001b[39m\u001b[39mNone\u001b[39;00m)\n\u001b[1;32m--> 186\u001b[0m X, y \u001b[39m=\u001b[39m \u001b[39mself\u001b[39;49m\u001b[39m.\u001b[39;49m_validate_data(\n\u001b[0;32m    187\u001b[0m     X, y, validate_separately\u001b[39m=\u001b[39;49m(check_X_params, check_y_params)\n\u001b[0;32m    188\u001b[0m )\n\u001b[0;32m    189\u001b[0m \u001b[39mif\u001b[39;00m issparse(X):\n\u001b[0;32m    190\u001b[0m     X\u001b[39m.\u001b[39msort_indices()\n",
      "File \u001b[1;32m~\\AppData\\Local\\Packages\\PythonSoftwareFoundation.Python.3.11_qbz5n2kfra8p0\\LocalCache\\local-packages\\Python311\\site-packages\\sklearn\\base.py:579\u001b[0m, in \u001b[0;36mBaseEstimator._validate_data\u001b[1;34m(self, X, y, reset, validate_separately, **check_params)\u001b[0m\n\u001b[0;32m    577\u001b[0m \u001b[39mif\u001b[39;00m \u001b[39m\"\u001b[39m\u001b[39mestimator\u001b[39m\u001b[39m\"\u001b[39m \u001b[39mnot\u001b[39;00m \u001b[39min\u001b[39;00m check_X_params:\n\u001b[0;32m    578\u001b[0m     check_X_params \u001b[39m=\u001b[39m {\u001b[39m*\u001b[39m\u001b[39m*\u001b[39mdefault_check_params, \u001b[39m*\u001b[39m\u001b[39m*\u001b[39mcheck_X_params}\n\u001b[1;32m--> 579\u001b[0m X \u001b[39m=\u001b[39m check_array(X, input_name\u001b[39m=\u001b[39;49m\u001b[39m\"\u001b[39;49m\u001b[39mX\u001b[39;49m\u001b[39m\"\u001b[39;49m, \u001b[39m*\u001b[39;49m\u001b[39m*\u001b[39;49mcheck_X_params)\n\u001b[0;32m    580\u001b[0m \u001b[39mif\u001b[39;00m \u001b[39m\"\u001b[39m\u001b[39mestimator\u001b[39m\u001b[39m\"\u001b[39m \u001b[39mnot\u001b[39;00m \u001b[39min\u001b[39;00m check_y_params:\n\u001b[0;32m    581\u001b[0m     check_y_params \u001b[39m=\u001b[39m {\u001b[39m*\u001b[39m\u001b[39m*\u001b[39mdefault_check_params, \u001b[39m*\u001b[39m\u001b[39m*\u001b[39mcheck_y_params}\n",
      "File \u001b[1;32m~\\AppData\\Local\\Packages\\PythonSoftwareFoundation.Python.3.11_qbz5n2kfra8p0\\LocalCache\\local-packages\\Python311\\site-packages\\sklearn\\utils\\validation.py:879\u001b[0m, in \u001b[0;36mcheck_array\u001b[1;34m(array, accept_sparse, accept_large_sparse, dtype, order, copy, force_all_finite, ensure_2d, allow_nd, ensure_min_samples, ensure_min_features, estimator, input_name)\u001b[0m\n\u001b[0;32m    877\u001b[0m         array \u001b[39m=\u001b[39m xp\u001b[39m.\u001b[39mastype(array, dtype, copy\u001b[39m=\u001b[39m\u001b[39mFalse\u001b[39;00m)\n\u001b[0;32m    878\u001b[0m     \u001b[39melse\u001b[39;00m:\n\u001b[1;32m--> 879\u001b[0m         array \u001b[39m=\u001b[39m _asarray_with_order(array, order\u001b[39m=\u001b[39;49morder, dtype\u001b[39m=\u001b[39;49mdtype, xp\u001b[39m=\u001b[39;49mxp)\n\u001b[0;32m    880\u001b[0m \u001b[39mexcept\u001b[39;00m ComplexWarning \u001b[39mas\u001b[39;00m complex_warning:\n\u001b[0;32m    881\u001b[0m     \u001b[39mraise\u001b[39;00m \u001b[39mValueError\u001b[39;00m(\n\u001b[0;32m    882\u001b[0m         \u001b[39m\"\u001b[39m\u001b[39mComplex data not supported\u001b[39m\u001b[39m\\n\u001b[39;00m\u001b[39m{}\u001b[39;00m\u001b[39m\\n\u001b[39;00m\u001b[39m\"\u001b[39m\u001b[39m.\u001b[39mformat(array)\n\u001b[0;32m    883\u001b[0m     ) \u001b[39mfrom\u001b[39;00m \u001b[39mcomplex_warning\u001b[39;00m\n",
      "File \u001b[1;32m~\\AppData\\Local\\Packages\\PythonSoftwareFoundation.Python.3.11_qbz5n2kfra8p0\\LocalCache\\local-packages\\Python311\\site-packages\\sklearn\\utils\\_array_api.py:185\u001b[0m, in \u001b[0;36m_asarray_with_order\u001b[1;34m(array, dtype, order, copy, xp)\u001b[0m\n\u001b[0;32m    182\u001b[0m     xp, _ \u001b[39m=\u001b[39m get_namespace(array)\n\u001b[0;32m    183\u001b[0m \u001b[39mif\u001b[39;00m xp\u001b[39m.\u001b[39m\u001b[39m__name__\u001b[39m \u001b[39min\u001b[39;00m {\u001b[39m\"\u001b[39m\u001b[39mnumpy\u001b[39m\u001b[39m\"\u001b[39m, \u001b[39m\"\u001b[39m\u001b[39mnumpy.array_api\u001b[39m\u001b[39m\"\u001b[39m}:\n\u001b[0;32m    184\u001b[0m     \u001b[39m# Use NumPy API to support order\u001b[39;00m\n\u001b[1;32m--> 185\u001b[0m     array \u001b[39m=\u001b[39m numpy\u001b[39m.\u001b[39masarray(array, order\u001b[39m=\u001b[39morder, dtype\u001b[39m=\u001b[39mdtype)\n\u001b[0;32m    186\u001b[0m     \u001b[39mreturn\u001b[39;00m xp\u001b[39m.\u001b[39masarray(array, copy\u001b[39m=\u001b[39mcopy)\n\u001b[0;32m    187\u001b[0m \u001b[39melse\u001b[39;00m:\n",
      "\u001b[1;31mValueError\u001b[0m: could not convert string to float: ''"
     ]
    }
   ],
   "source": [
    "clf = DecisionTreeClassifier(random_state=1)\n",
    "clf.fit(train_inputs,train_labels)\n",
    "clf.score(test_inputs,test_labels)"
   ]
  }
 ],
 "metadata": {
  "kernelspec": {
   "display_name": "Python 3",
   "language": "python",
   "name": "python3"
  },
  "language_info": {
   "codemirror_mode": {
    "name": "ipython",
    "version": 3
   },
   "file_extension": ".py",
   "mimetype": "text/x-python",
   "name": "python",
   "nbconvert_exporter": "python",
   "pygments_lexer": "ipython3",
   "version": "3.11.4"
  },
  "orig_nbformat": 4
 },
 "nbformat": 4,
 "nbformat_minor": 2
}
