{
 "cells": [
  {
   "cell_type": "code",
   "execution_count": 1,
   "metadata": {},
   "outputs": [],
   "source": [
    "import pandas as pd\n",
    "from sklearn.tree import DecisionTreeClassifier\n",
    "from sklearn.model_selection import train_test_split\n",
    "from sklearn import metrics\n",
    "\n",
    "import sqlite3\n",
    "connection = sqlite3.connect(\"./database/bdfinal.sql\")"
   ]
  },
  {
   "cell_type": "code",
   "execution_count": 10,
   "metadata": {},
   "outputs": [
    {
     "name": "stdout",
     "output_type": "stream",
     "text": [
      "[[9 0 895 ... True False False]\n",
      " [1 0 812 ... True False False]\n",
      " [2 0 746 ... False True False]\n",
      " ...\n",
      " [7 0 1016 ... True False False]\n",
      " [8 0 877 ... True False False]\n",
      " [9 0 885 ... True False False]]\n",
      "['N' 'N' 'Y' 'Y' 'Y' 'N' 'N' 'N' 'N' 'N' 'N' 'Y' 'Y' 'N' 'Y' 'Y' 'Y' 'Y'\n",
      " 'Y' 'Y' 'Y' 'N' 'N' 'N' 'Y' 'Y' 'Y' 'Y' 'Y' 'Y' 'Y' 'Y' 'Y' 'Y' 'N' 'Y'\n",
      " 'Y' 'N' 'N' 'N' 'N' 'Y' 'N' 'N' 'Y' 'Y' 'Y' 'Y' 'Y' 'Y' 'Y' 'Y' 'Y' 'Y'\n",
      " 'Y' 'N' 'Y' 'N' 'Y' 'N' 'N' 'N' 'N' 'Y' 'Y' 'N' 'N' 'N' 'N' 'Y' 'Y' 'Y'\n",
      " 'N' 'Y' 'Y' 'N' 'Y' 'Y' 'Y' 'N' 'N' 'Y' 'N' 'N' 'N' 'N' 'N' 'N' 'Y' 'N'\n",
      " 'N' 'N' 'N' 'Y' 'Y' 'N' 'Y' 'Y' 'Y' 'Y' 'Y' 'Y' 'N' 'N' 'N' 'N' 'Y' 'Y'\n",
      " 'N' 'N' 'Y' 'N' 'Y' 'Y' 'Y' 'Y' 'Y' 'N' 'Y' 'Y' 'Y' 'N' 'Y' 'N' 'Y' 'N'\n",
      " 'Y' 'N' 'N']\n",
      "[[10 0 1089 2428 569 755 114 374 404 855 1259 547 741 329 590 121 2861\n",
      "  996 2363 624 807 181 530 353 821 1174 615 700 347 601 133 2797 0 0 0 0\n",
      "  0 0 18 16 34 12 5 6 11 10 12 6950 120737 False True False True False\n",
      "  False True False False]\n",
      " [10 0 930 2136 527 693 186 471 307 776 1083 532 605 249 532 138 2573\n",
      "  1004 2269 479 613 206 593 359 797 1156 610 636 273 489 121 2693 0 0 0 0\n",
      "  0 0 16 18 34 12 5 4 13 10 12 6825 66852 True False False True False\n",
      "  False True False False]\n",
      " [10 0 966 2381 517 692 202 639 358 826 1184 608 677 250 453 130 2651 953\n",
      "  2236 591 746 157 488 329 945 1274 525 684 248 549 125 2654 0 0 0 0 0 0\n",
      "  16 18 34 12 5 4 13 10 12 6975 115496 True False False True False False\n",
      "  True False False]\n",
      " [10 0 980 2277 539 721 153 436 373 853 1226 575 766 261 546 97 2652 902\n",
      "  2201 632 813 208 611 320 781 1101 524 716 279 531 110 2644 0 0 0 0 0 0\n",
      "  18 16 34 11 6 7 10 11 11 6975 136069 False False True False True False\n",
      "  True False False]\n",
      " [10 0 890 2212 613 746 213 637 342 780 1122 527 692 373 531 117 2606 909\n",
      "  2118 529 692 154 483 318 849 1167 498 700 271 638 116 2501 0 0 0 0 0 0\n",
      "  22 12 34 14 3 8 9 17 5 6925 134964 False False True False False True\n",
      "  False True False]\n",
      " [10 0 973 2264 435 550 152 512 365 883 1248 587 583 217 568 166 2533 903\n",
      "  2262 479 623 213 636 320 730 1050 516 622 300 463 115 2498 0 0 0 0 0 0\n",
      "  18 16 34 11 6 7 10 11 9 6925 176587 False False True False True False\n",
      "  True False False]\n",
      " [10 0 949 2257 591 766 242 695 325 762 1087 509 693 301 513 128 2731\n",
      "  1041 2260 550 711 195 510 317 848 1165 589 694 250 543 140 2827 0 0 0 0\n",
      "  0 0 14 20 34 9 8 5 12 7 13 6875 128127 True False False True False\n",
      "  False True False False]\n",
      " [10 0 900 2168 458 582 254 710 280 802 1082 526 637 276 543 121 2512 906\n",
      "  2157 531 673 192 554 333 869 1202 482 590 269 548 124 2535 0 0 0 0 0 0\n",
      "  13 21 34 8 9 5 12 9 13 6900 166604 True False False True False False\n",
      "  True False False]\n",
      " [10 0 1128 2454 643 752 257 665 284 906 1190 625 740 225 500 181 3156\n",
      "  1094 2582 638 851 205 608 421 864 1285 607 671 260 460 143 3031 0 0 0 0\n",
      "  0 0 23 11 34 12 5 11 6 13 7 6900 144884 False False True False False\n",
      "  True False False True]\n",
      " [10 0 946 2194 586 744 132 389 391 763 1154 540 645 289 584 98 2610 994\n",
      "  2221 479 586 223 604 326 702 1028 627 704 262 576 147 2690 0 0 0 0 0 0\n",
      "  12 22 34 7 10 5 12 6 14 6850 131654 True False False True False False\n",
      "  True False False]\n",
      " [10 0 936 2190 487 626 256 739 281 768 1049 598 596 257 509 116 2615\n",
      "  1000 2279 488 620 173 499 364 824 1188 529 643 268 502 120 2661 0 0 0 0\n",
      "  0 0 15 19 34 10 7 5 12 10 10 6950 127957 False True False True False\n",
      "  False True False False]\n",
      " [10 0 909 2116 555 707 171 486 316 788 1104 536 710 276 555 150 2544 882\n",
      "  2150 510 671 202 585 332 746 1078 517 672 275 555 131 2476 0 0 0 0 0 0\n",
      "  20 14 34 13 4 7 10 13 7 7025 133858 False True False True False False\n",
      "  True False False]\n",
      " [10 0 933 2205 580 827 139 426 388 803 1191 453 725 314 607 118 2585 945\n",
      "  2184 570 755 162 478 322 789 1111 524 778 315 576 156 2622 0 0 0 0 0 0\n",
      "  16 18 34 11 6 5 12 10 12 6875 192747 False True False True False False\n",
      "  True False False]]\n",
      "['Y' 'N' 'N' 'Y' 'Y' 'Y' 'N' 'N' 'Y' 'N' 'Y' 'Y' 'Y']\n"
     ]
    }
   ],
   "source": [
    "columns = \"o_fgm,o_fga,o_ftm,o_fta,o_3pm,o_3pa,o_oreb,o_dreb,o_reb,o_asts,o_pf,o_stl,o_to,o_blk,o_pts,d_fgm,d_fga,d_ftm,d_fta,d_3pm,\\\n",
    "    d_3pa,d_oreb,d_dreb,d_reb,d_asts,d_pf,d_stl,d_to,d_blk,d_pts,tmORB,tmDRB,tmTRB,opptmORB,opptmDRB,opptmTRB,won,lost,GP,homeW,homeL,\\\n",
    "        awayW,awayL,confW,confL,min,attend,firstRound,semis,finals\"\n",
    "\n",
    "query_test = \"SELECT year, playoff, seeded, \" + columns + \" FROM Teams WHERE year = 10\"\n",
    "query_train = \"SELECT year, playoff, seeded, \" + columns + \" FROM Teams WHERE year <> 10\"\n",
    "\n",
    "train_data = pd.read_sql(query_train,connection)\n",
    "\n",
    "categorical_columns = [\"firstRound\", \"semis\", \"finals\"]\n",
    "for col in categorical_columns:\n",
    "    train_data[col] = train_data[col].astype('category')\n",
    "\n",
    "train_data= pd.get_dummies(train_data, columns=categorical_columns)\n",
    "train_inputs = train_data.loc[:, train_data.columns != \"playoff\"].values\n",
    "train_labels = train_data[\"playoff\"].values\n",
    "\n",
    "test_data = pd.read_sql(query_test,connection)\n",
    "for col in categorical_columns:\n",
    "    test_data[col] = test_data[col].astype('category')\n",
    "test_data = pd.get_dummies(test_data,columns=categorical_columns)\n",
    "test_inputs = test_data.loc[:, test_data.columns != \"playoff\"].values\n",
    "test_labels = test_data[\"playoff\"].values\n",
    "\n",
    "print(train_inputs)\n",
    "print(train_labels)\n",
    "print(test_inputs)\n",
    "print(test_labels)\n"
   ]
  },
  {
   "cell_type": "code",
   "execution_count": 11,
   "metadata": {},
   "outputs": [
    {
     "data": {
      "text/plain": [
       "1.0"
      ]
     },
     "execution_count": 11,
     "metadata": {},
     "output_type": "execute_result"
    }
   ],
   "source": [
    "clf = DecisionTreeClassifier(random_state=1)\n",
    "clf.fit(train_inputs,train_labels)\n",
    "clf.score(test_inputs,test_labels)"
   ]
  }
 ],
 "metadata": {
  "kernelspec": {
   "display_name": "Python 3",
   "language": "python",
   "name": "python3"
  },
  "language_info": {
   "codemirror_mode": {
    "name": "ipython",
    "version": 3
   },
   "file_extension": ".py",
   "mimetype": "text/x-python",
   "name": "python",
   "nbconvert_exporter": "python",
   "pygments_lexer": "ipython3",
   "version": "3.11.5"
  },
  "orig_nbformat": 4
 },
 "nbformat": 4,
 "nbformat_minor": 2
}
