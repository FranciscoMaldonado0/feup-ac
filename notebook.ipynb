{
 "cells": [
  {
   "cell_type": "code",
   "execution_count": null,
   "metadata": {},
   "outputs": [],
   "source": [
    "%matplotlib inline\n",
    "\n",
    "import pandas as pd\n",
    "from sklearn.tree import DecisionTreeClassifier\n",
    "from sklearn.model_selection import train_test_split\n",
    "from sklearn import metrics\n",
    "from sklearn import tree\n",
    "import matplotlib.pyplot as plt\n",
    "import seaborn as sb\n",
    "\n",
    "import sqlite3\n",
    "connection = sqlite3.connect(\"./database/bdfinal.sql\")"
   ]
  },
  {
   "cell_type": "code",
   "execution_count": null,
   "metadata": {},
   "outputs": [],
   "source": [
    "columns = \"o_fgm,o_fga,o_ftm,o_fta,o_3pm,o_3pa,o_oreb,o_dreb,o_reb,o_asts,o_pf,o_stl,o_to,o_blk,o_pts,d_fgm,d_fga,d_ftm,d_fta,d_3pm,\\\n",
    "    d_3pa,d_oreb,d_dreb,d_reb,d_asts,d_pf,d_stl,d_to,d_blk,d_pts,tmORB,tmDRB,tmTRB,opptmORB,opptmDRB,opptmTRB,won,lost,GP,homeW,homeL,\\\n",
    "        awayW,awayL,confW,confL,firstRound,semis,finals\"\n",
    "\n",
    "query_test = \"SELECT playoff, seeded, \" + columns + \" FROM Teams WHERE year = 10\"\n",
    "query_train = \"SELECT playoff, seeded, \" + columns + \" FROM Teams WHERE year <> 10\"\n",
    "\n",
    "train_data = pd.read_sql(query_train,connection)\n",
    "\n",
    "categorical_columns = [\"firstRound\", \"semis\", \"finals\"]\n",
    "for col in categorical_columns:\n",
    "    train_data[col] = train_data[col].astype('category')\n",
    "\n",
    "train_data= pd.get_dummies(train_data, columns=categorical_columns)\n",
    "train_inputs = train_data.loc[:, train_data.columns != \"playoff\"].values\n",
    "train_labels = train_data[\"playoff\"].values\n",
    "\n",
    "test_data = pd.read_sql(query_test,connection)\n",
    "for col in categorical_columns:\n",
    "    test_data[col] = test_data[col].astype('category')\n",
    "test_data = pd.get_dummies(test_data,columns=categorical_columns)\n",
    "test_inputs = test_data.loc[:, test_data.columns != \"playoff\"].values\n",
    "test_labels = test_data[\"playoff\"].values\n",
    "\n",
    "print(train_data.columns[46])\n",
    "# print(train_inputs)\n",
    "# print(train_labels)\n",
    "# print(test_inputs)\n",
    "# print(test_labels)\n"
   ]
  },
  {
   "cell_type": "code",
   "execution_count": null,
   "metadata": {},
   "outputs": [],
   "source": [
    "clf = DecisionTreeClassifier(random_state=1)\n",
    "clf.fit(train_inputs,train_labels)\n",
    "print(clf.score(test_inputs,test_labels))\n",
    "tree.plot_tree(clf)"
   ]
  },
  {
   "cell_type": "code",
   "execution_count": null,
   "metadata": {},
   "outputs": [],
   "source": [
    "print(\"\\n=========================================\\n\")\n",
    "\n",
    "df = pd.read_sql(\"SELECT * FROM coaches;\",connection)\n",
    "\n",
    "null_mask = df.isnull().any(axis=1)\n",
    "null_rows = df[null_mask]\n",
    "print(null_rows)\n",
    "\n",
    "print(\"\\n=========================================\\n\")\n",
    "\n",
    "df = pd.read_sql(\"SELECT * FROM players;\",connection)\n",
    "\n",
    "null_mask = df.isnull().any(axis=1)\n",
    "null_rows = df[null_mask]\n",
    "print(null_rows)\n",
    "\n",
    "## ---//---\n",
    "\n",
    "## get rows where pos = \"\"\n",
    "df = pd.read_sql(\"SELECT * FROM players;\",connection)\n",
    "\n",
    "## iterate through rows\n",
    "\n",
    "col_names = df.columns\n",
    "for index, row in df.iterrows():\n",
    "    \n",
    "    ## iterate through columns\n",
    "    found = False\n",
    "    if row[\"pos\"] == \"\":\n",
    "        found = True\n",
    "    elif row[\"height\"] == 0:\n",
    "        found = True\n",
    "    elif row[\"weight\"] == 0:\n",
    "        found = True\n",
    "    elif row[\"birthDate\"] == \"\" or row[\"birthDate\"] == \"0000-00-00\":\n",
    "        found = True\n",
    "    elif row[\"college\"] == \"\":\n",
    "        found = True\n",
    "\n",
    "    if(found):\n",
    "        print(row[\"bioID\"])\n",
    "    \n",
    "print(\"\\n=========================================\\n\")\n",
    "\n",
    "df = pd.read_sql(\"SELECT * FROM players_teams;\",connection)\n",
    "\n",
    "null_mask = df.isnull().any(axis=1)\n",
    "null_rows = df[null_mask]\n",
    "print(null_rows)\n",
    "\n",
    "print(\"\\n=========================================\\n\")\n",
    "\n",
    "df = pd.read_sql(\"SELECT * FROM series_post;\",connection)\n",
    "\n",
    "null_mask = df.isnull().any(axis=1)\n",
    "null_rows = df[null_mask]\n",
    "print(null_rows)\n",
    "\n",
    "print(\"\\n=========================================\\n\")\n",
    "\n",
    "df = pd.read_sql(\"SELECT * FROM teams;\",connection)\n",
    "\n",
    "null_mask = df.isnull().any(axis=1)\n",
    "null_rows = df[null_mask]\n",
    "print(null_rows)\n",
    "\n",
    "print(\"\\n=========================================\\n\")\n",
    "\n",
    "df = pd.read_sql(\"SELECT * FROM teams_post;\",connection)\n",
    "\n",
    "null_mask = df.isnull().any(axis=1)\n",
    "null_rows = df[null_mask]\n",
    "print(null_rows)"
   ]
  },
  {
   "cell_type": "markdown",
   "metadata": {},
   "source": [
    "## Missing Values\n",
    "\n",
    "### Player\n",
    "\n",
    "- After a quick glance at the data, it's easy to see that there's a certain amount of players that have many important missing/null values (college, height and weight)."
   ]
  },
  {
   "cell_type": "code",
   "execution_count": null,
   "metadata": {},
   "outputs": [],
   "source": [
    "dataframe = pd.read_sql(\"select bioID from players where weight = 0 or height = 0 or college = '' or pos = '';\", connection)\n",
    "print(dataframe)"
   ]
  },
  {
   "cell_type": "markdown",
   "metadata": {},
   "source": [
    "- From these 208 players, it's important to see which actually were a part of a team"
   ]
  },
  {
   "cell_type": "code",
   "execution_count": null,
   "metadata": {},
   "outputs": [],
   "source": [
    "active_missing_values_players = pd.read_sql(\"select distinct(bioID), weight, height, pos from players where (weight = 0 or height = 0) and pos <> ''\", connection)\n",
    "print(active_missing_values_players)"
   ]
  },
  {
   "cell_type": "markdown",
   "metadata": {},
   "source": [
    "- Regarding these 83 players, if a player doesn't have their position missing, we decided to replace their missing weight and/or height values with the average value of the players of their same position. \n",
    "\n",
    "    - Obtain the average weight and height for each player position:"
   ]
  },
  {
   "cell_type": "code",
   "execution_count": null,
   "metadata": {},
   "outputs": [],
   "source": [
    "# query para cada valor\n",
    "avg_pos_weights = pd.read_sql(\"select pos, avg(weight) from players where weight <> 0 group by pos;\", connection)\n",
    "print(avg_pos_weights)\n",
    "avg_pos_heights = pd.read_sql(\"select pos, avg(height) from players where height <> 0 group by pos;\", connection)\n",
    "print(avg_pos_heights)"
   ]
  },
  {
   "cell_type": "markdown",
   "metadata": {},
   "source": [
    "\n",
    "- Store the values in two dictionaries, where the key values are the players' positions"
   ]
  },
  {
   "cell_type": "code",
   "execution_count": null,
   "metadata": {},
   "outputs": [],
   "source": [
    "# add to a dictionary where the key are the positions and the values are the avg weights\n",
    "avg_weights = {}\n",
    "\n",
    "for index, row in avg_pos_weights.iterrows():\n",
    "    avg_weights[row[\"pos\"]] = row[\"avg(weight)\"]\n",
    "    \n",
    "print(avg_weights)\n",
    "\n",
    "avg_heights = {}\n",
    "\n",
    "for index, row in avg_pos_heights.iterrows():\n",
    "    avg_heights[row[\"pos\"]] = row[\"avg(height)\"]\n",
    "    \n",
    "print(avg_heights)"
   ]
  },
  {
   "cell_type": "code",
   "execution_count": null,
   "metadata": {},
   "outputs": [],
   "source": [
    "\n",
    "for index, row in active_missing_values_players.iterrows():\n",
    "    player = pd.read_sql(\"select * from players where bioID = '\" + row[\"bioID\"] + \"';\", connection)\n",
    "    \n",
    "    pos = player[\"pos\"].values[0]\n",
    "    if pos == '':\n",
    "        continue\n",
    "    \n",
    "    if(player[\"weight\"].values[0] != 0 and player[\"height\"].values[0] != 0):\n",
    "        # print(\"Player already has values\")\n",
    "        # print(player)\n",
    "        continue\n",
    "    \n",
    "    print(player)\n",
    "    \n",
    "    print(\"\\n===\\n\")\n",
    "\n",
    "    ## get average values for the player's position pos\n",
    "    if(player[\"weight\"].values[0] == 0):\n",
    "        weight = avg_weights[pos]\n",
    "    else:\n",
    "        weight = player[\"weight\"].values[0]\n",
    "    if (player[\"height\"].values[0] == 0):\n",
    "        height = avg_heights[pos]\n",
    "    else:\n",
    "        height = player[\"height\"].values[0]\n",
    "\n",
    "    \n",
    "    \n",
    "    ## get row index\n",
    "    pos = row.index[0]\n",
    "    \n",
    "    # update player's height and weight\n",
    "    print(\"UPDATE players SET height = '\" + str(height) + \"', weight = '\" + str(weight) + \"' WHERE bioID = '\" + player[\"bioID\"].values[0] + \"';\")\n",
    "    \n",
    "    # update player's height and weight\n",
    "    connection.execute(\"UPDATE players SET height = \" + str(height) + \", weight = \" + str(weight) + \" WHERE bioID = '\" + player[\"bioID\"].values[0] + \"';\")\n",
    "    connection.commit()\n",
    "    "
   ]
  },
  {
   "cell_type": "markdown",
   "metadata": {},
   "source": [
    "## Inconsistent data\n",
    "\n",
    "### Player Awards\n",
    "\n",
    "- Check if there's any award, that should be given to one player, is given to two or more players."
   ]
  },
  {
   "cell_type": "code",
   "execution_count": null,
   "metadata": {},
   "outputs": [],
   "source": [
    "dataframe = pd.read_sql(\" select count(playerID), award, year from awards_players group by award, year;\", connection)\n",
    "\n",
    "# print rows \n",
    "print(dataframe)"
   ]
  },
  {
   "cell_type": "markdown",
   "metadata": {},
   "source": [
    "However, we noticed that there's an award missing part of its title. Therefore, we'll have to fix it."
   ]
  },
  {
   "cell_type": "code",
   "execution_count": null,
   "metadata": {},
   "outputs": [],
   "source": [
    "connection.execute(\"UPDATE awards_players SET award = 'Kim Perrot Sportsmanship Award' WHERE award = 'Kim Perrot Sportsmanship';\")\n",
    "connection.commit()"
   ]
  },
  {
   "cell_type": "markdown",
   "metadata": {},
   "source": [
    "### Teams Post\n",
    "\n",
    "- Check if, in any year, no more than 8 teams passed to the playoffs."
   ]
  },
  {
   "cell_type": "code",
   "execution_count": null,
   "metadata": {},
   "outputs": [],
   "source": [
    "dataframe = pd.read_sql(\"select count(tmID) as num, year from teams_post group by year having num > 8;\", connection)\n",
    "print(dataframe)"
   ]
  },
  {
   "cell_type": "markdown",
   "metadata": {},
   "source": [
    "- Check if, in any year, only one team won the playoff."
   ]
  },
  {
   "cell_type": "code",
   "execution_count": null,
   "metadata": {},
   "outputs": [],
   "source": [
    "dataframe = pd.read_sql(\"select year, tmID, finals from teams where finals = 'W' order by year;\", connection)\n",
    "print(dataframe)"
   ]
  },
  {
   "cell_type": "markdown",
   "metadata": {},
   "source": [
    "### Teams\n",
    "\n",
    "- Check if the sum of games won and lost by a player is equal to the total games played by a team"
   ]
  },
  {
   "cell_type": "code",
   "execution_count": null,
   "metadata": {},
   "outputs": [],
   "source": [
    "dataframe = pd.read_sql(\"select year, tmID, won, lost, GP, (won + lost) as Games from teams where Games <> GP;\", connection)\n",
    "print(dataframe)"
   ]
  },
  {
   "cell_type": "markdown",
   "metadata": {},
   "source": [
    "- Check if the sum of rebounds made by a team is equal to the sum of offensive rebounds and defensive rebounds"
   ]
  },
  {
   "cell_type": "code",
   "execution_count": null,
   "metadata": {},
   "outputs": [],
   "source": [
    "dataFrame = pd.read_sql(\"select year, tmID, o_oreb, o_dreb, o_reb, (o_oreb + o_dreb) as rebounds from teams where o_reb <> rebounds;\", connection)\n",
    "print(dataFrame)\n",
    "print(\"===============================\")\n",
    "\n",
    "dataFrame = pd.read_sql(\"select year, tmID, d_oreb, d_dreb, d_reb, (d_oreb + d_dreb) as rebounds from teams where d_reb <> rebounds;\", connection)\n",
    "print(dataFrame)"
   ]
  },
  {
   "cell_type": "markdown",
   "metadata": {},
   "source": [
    "- Check if the stats (field goals, 3 pointers, free throws, etc.) attempted are in a bigger quantity than the stats made"
   ]
  },
  {
   "cell_type": "code",
   "execution_count": null,
   "metadata": {},
   "outputs": [],
   "source": [
    "dataframe = pd.read_sql(\"select year, tmID from teams where o_fgm > o_fga;\", connection)\n",
    "print(dataframe)\n",
    "print(\"===============================\")\n",
    "\n",
    "dataframe = pd.read_sql(\"select year, tmID from teams where o_ftm > o_fta;\", connection)\n",
    "print(dataframe)\n",
    "print(\"===============================\")\n",
    "\n",
    "dataframe = pd.read_sql(\"select year, tmID from teams where o_3pm > o_3pa;\", connection)\n",
    "print(dataframe)\n",
    "print(\"===============================\")\n",
    "\n",
    "dataframe = pd.read_sql(\"select year, tmID from teams where d_fgm > d_fga;\", connection)\n",
    "print(dataframe)\n",
    "print(\"===============================\")\n",
    "\n",
    "dataframe = pd.read_sql(\"select year, tmID from teams where d_ftm > d_fta;\", connection)\n",
    "print(dataframe)\n",
    "print(\"===============================\")\n",
    "\n",
    "dataframe = pd.read_sql(\"select year, tmID from teams where d_3pm > d_3pa;\", connection)\n",
    "print(dataframe)\n",
    "print(\"===============================\")\n"
   ]
  },
  {
   "cell_type": "markdown",
   "metadata": {},
   "source": [
    "## Removing irrelevant Columns"
   ]
  },
  {
   "cell_type": "code",
   "execution_count": null,
   "metadata": {},
   "outputs": [],
   "source": [
    "# remove tmORB, tmDRB, tmTRB, opptmORB, opptmDRB, opptmTRB from teams using a query\n",
    "connection.execute(\"ALTER TABLE teams DROP COLUMN tmORB;\")\n",
    "connection.execute(\"ALTER TABLE teams DROP COLUMN tmDRB;\")\n",
    "connection.execute(\"ALTER TABLE teams DROP COLUMN tmTRB;\")\n",
    "connection.execute(\"ALTER TABLE teams DROP COLUMN opptmORB;\")\n",
    "connection.execute(\"ALTER TABLE teams DROP COLUMN opptmDRB;\")\n",
    "connection.execute(\"ALTER TABLE teams DROP COLUMN opptmTRB;\")\n",
    "\n",
    "# remove franchID and lgID from teams using a query\n",
    "connection.execute(\"ALTER TABLE teams DROP COLUMN franchID;\")\n",
    "connection.execute(\"ALTER TABLE teams DROP COLUMN lgID;\")"
   ]
  },
  {
   "cell_type": "code",
   "execution_count": null,
   "metadata": {},
   "outputs": [],
   "source": [
    "# remove firstSeason and lastSeason from players using a query\n",
    "connection.execute(\"ALTER TABLE players DROP COLUMN firstSeason;\")\n",
    "connection.execute(\"ALTER TABLE players DROP COLUMN lastSeason;\")"
   ]
  },
  {
   "cell_type": "code",
   "execution_count": null,
   "metadata": {},
   "outputs": [],
   "source": [
    "#remove lgIDWinner, lgIDLoser and series from series_post using a query\n",
    "connection.execute(\"ALTER TABLE series_post DROP COLUMN lgIDWinner;\")\n",
    "connection.execute(\"ALTER TABLE series_post DROP COLUMN lgIDLoser;\")\n",
    "connection.execute(\"ALTER TABLE series_post DROP COLUMN series;\")"
   ]
  },
  {
   "cell_type": "code",
   "execution_count": null,
   "metadata": {},
   "outputs": [],
   "source": [
    "#remove lgID from teams_post using a query\n",
    "connection.execute(\"ALTER TABLE teams_post DROP COLUMN lgID;\")\n",
    "\n",
    "#remove lgID from awards_players using a query\n",
    "connection.execute(\"ALTER TABLE awards_players DROP COLUMN lgID;\")\n",
    "\n",
    "#remove lgID from players_teams using a query\n",
    "connection.execute(\"ALTER TABLE players_teams DROP COLUMN lgID;\")"
   ]
  },
  {
   "cell_type": "code",
   "execution_count": null,
   "metadata": {},
   "outputs": [],
   "source": [
    "#remove lgID from coaches using a query\n",
    "connection.execute(\"ALTER TABLE coaches DROP COLUMN lgID;\")"
   ]
  }
 ],
 "metadata": {
  "kernelspec": {
   "display_name": "Python 3",
   "language": "python",
   "name": "python3"
  },
  "language_info": {
   "codemirror_mode": {
    "name": "ipython",
    "version": 3
   },
   "file_extension": ".py",
   "mimetype": "text/x-python",
   "name": "python",
   "nbconvert_exporter": "python",
   "pygments_lexer": "ipython3",
   "version": "3.11.6"
  },
  "orig_nbformat": 4
 },
 "nbformat": 4,
 "nbformat_minor": 2
}
