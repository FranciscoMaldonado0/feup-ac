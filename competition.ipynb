{
 "cells": [
  {
   "cell_type": "markdown",
   "metadata": {},
   "source": [
    "## Season 11 \n",
    "\n",
    "The first step in this part is adding the season 11 data to the database"
   ]
  },
  {
   "cell_type": "code",
   "execution_count": null,
   "metadata": {},
   "outputs": [],
   "source": [
    "import pandas as pd\n",
    "import sqlite3\n",
    "\n",
    "connection = sqlite3.connect(\"./database/bdfinal.sql\")"
   ]
  },
  {
   "cell_type": "markdown",
   "metadata": {},
   "source": [
    "Inserts don't need to be run, the bdfinal.sql already contains the season 11 data."
   ]
  },
  {
   "cell_type": "code",
   "execution_count": null,
   "metadata": {},
   "outputs": [],
   "source": [
    "# add the season 11 data to the database\n",
    "\n",
    "# get the data from the csv file\n",
    "df = pd.read_csv(\"./season11/coaches.csv\")\n",
    "\n",
    "# iterate through each row and add the data to the database\n",
    "for index, row in df.iterrows():\n",
    "        \n",
    "    # add the row to the database\n",
    "    connection.execute(\"INSERT INTO coaches (coachID, year, tmID, stint) VALUES ('\" + str(row[0]).strip() + \"', '\" + str(row[1]).strip() + \"', '\" + str(row[2]).strip() +  \"', '\" + str(row[4]).strip() + \"');\")\n",
    "    connection.commit()\n"
   ]
  },
  {
   "cell_type": "code",
   "execution_count": null,
   "metadata": {},
   "outputs": [],
   "source": [
    "# add the season 11 data to the database\n",
    "\n",
    "# get the data from the csv file\n",
    "df = pd.read_csv(\"./season11/teams.csv\")\n",
    "\n",
    "# iterate through each row and add the data to the database\n",
    "for index, row in df.iterrows():\n",
    "        \n",
    "    # add the row to the database\n",
    "    connection.execute(\"INSERT INTO teams (year, tmID, confID, name, arena) VALUES ('\" + str(row[0]).strip() + \"', '\" + str(row[2]).strip() + \"', '\" + str(row[4]).strip() +  \"', '\" + str(row[5]).strip() + \"', '\" + str(row[6]).strip() + \"');\")\n",
    "    connection.commit()"
   ]
  },
  {
   "cell_type": "code",
   "execution_count": null,
   "metadata": {},
   "outputs": [],
   "source": [
    "# add the season 11 data to the database\n",
    "\n",
    "# get the data from the csv file\n",
    "df = pd.read_csv(\"./season11/players_teams.csv\")\n",
    "\n",
    "# iterate through each row and add the data to the database\n",
    "for index, row in df.iterrows():\n",
    "        \n",
    "    # add the row to the database\n",
    "    connection.execute(\"INSERT INTO players_teams (playerID, year, stint, tmID) VALUES ('\" + str(row[0]).strip() + \"', '\" + str(row[1]).strip() + \"', '\" + str(row[2]).strip() +  \"', '\" + str(row[3]).strip() + \"');\")\n",
    "    connection.commit()"
   ]
  }
 ],
 "metadata": {
  "kernelspec": {
   "display_name": "Python 3",
   "language": "python",
   "name": "python3"
  },
  "language_info": {
   "codemirror_mode": {
    "name": "ipython",
    "version": 3
   },
   "file_extension": ".py",
   "mimetype": "text/x-python",
   "name": "python",
   "nbconvert_exporter": "python",
   "pygments_lexer": "ipython3",
   "version": "3.10.6"
  }
 },
 "nbformat": 4,
 "nbformat_minor": 2
}
